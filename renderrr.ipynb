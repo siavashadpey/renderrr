{
  "nbformat": 4,
  "nbformat_minor": 0,
  "metadata": {
    "colab": {
      "name": "renderrr.ipynb",
      "provenance": [],
      "collapsed_sections": [],
      "authorship_tag": "ABX9TyP+jP8qgP5dcPto1tklEtSo",
      "include_colab_link": true
    },
    "kernelspec": {
      "name": "python3",
      "display_name": "Python 3"
    },
    "accelerator": "GPU"
  },
  "cells": [
    {
      "cell_type": "markdown",
      "metadata": {
        "id": "view-in-github",
        "colab_type": "text"
      },
      "source": [
        "<a href=\"https://colab.research.google.com/github/siavashadpey/renderrr/blob/master/renderrr.ipynb\" target=\"_parent\"><img src=\"https://colab.research.google.com/assets/colab-badge.svg\" alt=\"Open In Colab\"/></a>"
      ]
    },
    {
      "cell_type": "code",
      "metadata": {
        "id": "TD52gANP6U3p",
        "colab_type": "code",
        "colab": {}
      },
      "source": [
        "!nvidia-smi"
      ],
      "execution_count": null,
      "outputs": []
    },
    {
      "cell_type": "code",
      "metadata": {
        "id": "SJvUURpY-LBd",
        "colab_type": "code",
        "colab": {}
      },
      "source": [
        "!sudo apt-get install cuda-10.1\n",
        "!export PATH=/usr/local/cuda-10.1/bin${PATH:+:${PATH}}\n",
        "!export LD_LIBRARY_PATH=/usr/local/cuda-10.1/lib64\n",
        "!export LIBRARY_PATH=$LIBRARY_PATH:/usr/local/cuda-10.1/lib64\n",
        "!ls /usr/local/cuda-10.1/targets/x86_64-linux/lib/libcudart*"
      ],
      "execution_count": null,
      "outputs": []
    },
    {
      "cell_type": "code",
      "metadata": {
        "id": "F0t-c4hi7AqF",
        "colab_type": "code",
        "colab": {}
      },
      "source": [
        "%cd /content\n",
        "!git clone https://github.com/siavashadpey/renderrr.git"
      ],
      "execution_count": null,
      "outputs": []
    },
    {
      "cell_type": "code",
      "metadata": {
        "id": "_Mr8qyLTff4j",
        "colab_type": "code",
        "colab": {}
      },
      "source": [
        "%cd /content/renderrr"
      ],
      "execution_count": null,
      "outputs": []
    },
    {
      "cell_type": "code",
      "metadata": {
        "id": "O3c3sRJp-6CU",
        "colab_type": "code",
        "colab": {}
      },
      "source": [
        "!git pull"
      ],
      "execution_count": null,
      "outputs": []
    },
    {
      "cell_type": "code",
      "metadata": {
        "id": "uaLPes-l-Eh0",
        "colab_type": "code",
        "colab": {}
      },
      "source": [
        "%mkdir build_parallel build_serial"
      ],
      "execution_count": 6,
      "outputs": []
    },
    {
      "cell_type": "code",
      "metadata": {
        "id": "3VE3quyT-Gml",
        "colab_type": "code",
        "colab": {}
      },
      "source": [
        "%cd /content/renderrr/build_parallel"
      ],
      "execution_count": null,
      "outputs": []
    },
    {
      "cell_type": "code",
      "metadata": {
        "id": "TqvStyy57gLl",
        "colab_type": "code",
        "colab": {}
      },
      "source": [
        "!cmake -DCUDA=ON .."
      ],
      "execution_count": null,
      "outputs": []
    },
    {
      "cell_type": "code",
      "metadata": {
        "id": "gNDpu0yi7qGp",
        "colab_type": "code",
        "colab": {}
      },
      "source": [
        "!make"
      ],
      "execution_count": null,
      "outputs": []
    },
    {
      "cell_type": "code",
      "metadata": {
        "id": "rXT1aYQL7_QK",
        "colab_type": "code",
        "colab": {}
      },
      "source": [
        "!./driver/main"
      ],
      "execution_count": null,
      "outputs": []
    },
    {
      "cell_type": "code",
      "metadata": {
        "id": "t8c_NA2a5X5k",
        "colab_type": "code",
        "colab": {}
      },
      "source": [
        "from google.colab import files\n",
        "#files.download('demo_cpu.ppm')\n",
        "files.download('demo_gpu.ppm')"
      ],
      "execution_count": null,
      "outputs": []
    },
    {
      "cell_type": "code",
      "metadata": {
        "id": "SEUsZdUZSFnO",
        "colab_type": "code",
        "colab": {}
      },
      "source": [
        "%cd /content/renderrr/build_serial"
      ],
      "execution_count": null,
      "outputs": []
    },
    {
      "cell_type": "code",
      "metadata": {
        "id": "WMm8vFUxSLQT",
        "colab_type": "code",
        "colab": {}
      },
      "source": [
        "!cmake .."
      ],
      "execution_count": null,
      "outputs": []
    },
    {
      "cell_type": "code",
      "metadata": {
        "id": "JbZUSJqwSM72",
        "colab_type": "code",
        "colab": {}
      },
      "source": [
        "!make"
      ],
      "execution_count": null,
      "outputs": []
    },
    {
      "cell_type": "code",
      "metadata": {
        "id": "yU5mVW4cSQ5v",
        "colab_type": "code",
        "colab": {}
      },
      "source": [
        "!./driver/main"
      ],
      "execution_count": null,
      "outputs": []
    },
    {
      "cell_type": "code",
      "metadata": {
        "id": "6pwJOj7wSSMH",
        "colab_type": "code",
        "colab": {}
      },
      "source": [
        "from google.colab import files\n",
        "files.download('demo_cpu.ppm')\n",
        "#files.download('demo_gpu.ppm')"
      ],
      "execution_count": null,
      "outputs": []
    }
  ]
}