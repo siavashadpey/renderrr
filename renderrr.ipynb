{
  "nbformat": 4,
  "nbformat_minor": 0,
  "metadata": {
    "colab": {
      "name": "renderrr.ipynb",
      "provenance": [],
      "collapsed_sections": [],
      "authorship_tag": "ABX9TyNfQhmZGtZ/nnT3hNonBRzB",
      "include_colab_link": true
    },
    "kernelspec": {
      "name": "python3",
      "display_name": "Python 3"
    },
    "accelerator": "GPU"
  },
  "cells": [
    {
      "cell_type": "markdown",
      "metadata": {
        "id": "view-in-github",
        "colab_type": "text"
      },
      "source": [
        "<a href=\"https://colab.research.google.com/github/siavashadpey/renderrr/blob/master/renderrr.ipynb\" target=\"_parent\"><img src=\"https://colab.research.google.com/assets/colab-badge.svg\" alt=\"Open In Colab\"/></a>"
      ]
    },
    {
      "cell_type": "code",
      "metadata": {
        "id": "TD52gANP6U3p",
        "colab_type": "code",
        "colab": {}
      },
      "source": [
        "!nvidia-smi"
      ],
      "execution_count": null,
      "outputs": []
    },
    {
      "cell_type": "code",
      "metadata": {
        "id": "lCZ5a1RwHGe6",
        "colab_type": "code",
        "colab": {}
      },
      "source": [
        "!sudo apt-get install cuda-10.1"
      ],
      "execution_count": null,
      "outputs": []
    },
    {
      "cell_type": "code",
      "metadata": {
        "id": "MlhFeFnrBUrl",
        "colab_type": "code",
        "colab": {}
      },
      "source": [
        "!export PATH=$PATH:/usr/local/cuda-10.1/bin/\n",
        "!export LD_LIBRARY_PATH=/usr/local/cuda-10.1/lib64\n",
        "!export LIBRARY_PATH=$LIBRARY_PATH:/usr/local/cuda-10.1/lib64\n",
        "!ls /usr/local/cuda-10.1/targets/x86_64-linux/lib/libcudart*"
      ],
      "execution_count": null,
      "outputs": []
    },
    {
      "cell_type": "code",
      "metadata": {
        "id": "F0t-c4hi7AqF",
        "colab_type": "code",
        "colab": {}
      },
      "source": [
        "%cd /content\n",
        "%rm -fr renderrr\n",
        "!git clone https://github.com/siavashadpey/renderrr.git"
      ],
      "execution_count": null,
      "outputs": []
    },
    {
      "cell_type": "code",
      "metadata": {
        "id": "_Mr8qyLTff4j",
        "colab_type": "code",
        "colab": {}
      },
      "source": [
        "%cd /content/renderrr"
      ],
      "execution_count": null,
      "outputs": []
    },
    {
      "cell_type": "code",
      "metadata": {
        "id": "uaLPes-l-Eh0",
        "colab_type": "code",
        "colab": {}
      },
      "source": [
        "%mkdir build_parallel build_serial"
      ],
      "execution_count": 5,
      "outputs": []
    },
    {
      "cell_type": "code",
      "metadata": {
        "id": "3VE3quyT-Gml",
        "colab_type": "code",
        "colab": {}
      },
      "source": [
        "%cd /content/renderrr/build_parallel"
      ],
      "execution_count": null,
      "outputs": []
    },
    {
      "cell_type": "code",
      "metadata": {
        "id": "TqvStyy57gLl",
        "colab_type": "code",
        "colab": {}
      },
      "source": [
        "!cmake -DCUDA=ON .."
      ],
      "execution_count": null,
      "outputs": []
    },
    {
      "cell_type": "code",
      "metadata": {
        "id": "gNDpu0yi7qGp",
        "colab_type": "code",
        "colab": {}
      },
      "source": [
        "!make"
      ],
      "execution_count": null,
      "outputs": []
    },
    {
      "cell_type": "code",
      "metadata": {
        "id": "rXT1aYQL7_QK",
        "colab_type": "code",
        "colab": {}
      },
      "source": [
        "!./driver/three_balls"
      ],
      "execution_count": null,
      "outputs": []
    },
    {
      "cell_type": "code",
      "metadata": {
        "id": "xXd0Vp25czCR",
        "colab_type": "code",
        "colab": {}
      },
      "source": [
        "!./driver/many_balls"
      ],
      "execution_count": null,
      "outputs": []
    },
    {
      "cell_type": "code",
      "metadata": {
        "id": "tpBh313RbQn7",
        "colab_type": "code",
        "colab": {}
      },
      "source": [
        "from google.colab import files\n",
        "#files.download(\"three_balls_gpu.ppm\")\n",
        "files.download(\"many_balls_gpu.ppm\")"
      ],
      "execution_count": null,
      "outputs": []
    },
    {
      "cell_type": "code",
      "metadata": {
        "id": "5EW0ST-duYtZ",
        "colab_type": "code",
        "colab": {}
      },
      "source": [
        "!/usr/local/cuda-10.1/bin/cuda-memcheck --check-deprecated-instr yes  --leak-check full --racecheck-report  all ./driver/three_balls"
      ],
      "execution_count": null,
      "outputs": []
    },
    {
      "cell_type": "code",
      "metadata": {
        "id": "2VOJKYomxSDF",
        "colab_type": "code",
        "colab": {}
      },
      "source": [
        "!/usr/local/cuda-10.1/bin/cuda-memcheck --tool initcheck  --track-unused-memory yes ./driver/three_balls"
      ],
      "execution_count": 137,
      "outputs": []
    },
    {
      "cell_type": "code",
      "metadata": {
        "id": "T7BifKyE6-c0",
        "colab_type": "code",
        "colab": {}
      },
      "source": [
        "!/usr/local/cuda-10.1/bin/nvprof --profile-api-trace none ./driver/three_balls"
      ],
      "execution_count": null,
      "outputs": []
    },
    {
      "cell_type": "code",
      "metadata": {
        "id": "FEwtKuD62r4m",
        "colab_type": "code",
        "colab": {}
      },
      "source": [
        "!/usr/local/cuda-10.1/bin/nvprof  --print-gpu-trace --track-memory-allocations on ./driver/three_balls"
      ],
      "execution_count": null,
      "outputs": []
    },
    {
      "cell_type": "code",
      "metadata": {
        "id": "XeX7hztyRXkz",
        "colab_type": "code",
        "colab": {}
      },
      "source": [
        "!/usr/local/cuda-10.1/bin/nvprof --print-gpu-trace  -o prof.nvvp ./driver/three_balls"
      ],
      "execution_count": null,
      "outputs": []
    },
    {
      "cell_type": "code",
      "metadata": {
        "id": "yOykN4nZRlBA",
        "colab_type": "code",
        "colab": {}
      },
      "source": [
        "from google.colab import files\n",
        "files.download(\"prof.nvvp\")"
      ],
      "execution_count": null,
      "outputs": []
    },
    {
      "cell_type": "code",
      "metadata": {
        "id": "SEUsZdUZSFnO",
        "colab_type": "code",
        "colab": {}
      },
      "source": [
        "%cd /content/renderrr/build_serial"
      ],
      "execution_count": null,
      "outputs": []
    },
    {
      "cell_type": "code",
      "metadata": {
        "id": "WMm8vFUxSLQT",
        "colab_type": "code",
        "colab": {}
      },
      "source": [
        "!cmake .."
      ],
      "execution_count": null,
      "outputs": []
    },
    {
      "cell_type": "code",
      "metadata": {
        "id": "JbZUSJqwSM72",
        "colab_type": "code",
        "colab": {}
      },
      "source": [
        "!make"
      ],
      "execution_count": null,
      "outputs": []
    },
    {
      "cell_type": "code",
      "metadata": {
        "id": "yU5mVW4cSQ5v",
        "colab_type": "code",
        "colab": {}
      },
      "source": [
        "!./driver/three_balls"
      ],
      "execution_count": null,
      "outputs": []
    },
    {
      "cell_type": "code",
      "metadata": {
        "id": "6pwJOj7wSSMH",
        "colab_type": "code",
        "colab": {}
      },
      "source": [
        "from google.colab import files\n",
        "files.download('three_balls_cpu.ppm')"
      ],
      "execution_count": null,
      "outputs": []
    }
  ]
}